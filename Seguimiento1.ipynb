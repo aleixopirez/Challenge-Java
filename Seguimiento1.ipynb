{
  "nbformat": 4,
  "nbformat_minor": 0,
  "metadata": {
    "colab": {
      "provenance": [],
      "authorship_tag": "ABX9TyP/E36e7LNRbUlHQBoIdDFI",
      "include_colab_link": true
    },
    "kernelspec": {
      "name": "python3",
      "display_name": "Python 3"
    },
    "language_info": {
      "name": "python"
    }
  },
  "cells": [
    {
      "cell_type": "markdown",
      "metadata": {
        "id": "view-in-github",
        "colab_type": "text"
      },
      "source": [
        "<a href=\"https://colab.research.google.com/github/aleixopirez/Challenge-Java/blob/main/Seguimiento1.ipynb\" target=\"_parent\"><img src=\"https://colab.research.google.com/assets/colab-badge.svg\" alt=\"Open In Colab\"/></a>"
      ]
    },
    {
      "cell_type": "markdown",
      "source": [
        "ARQUITECTURA EN BIG DATA\n",
        "SEGUIMIENTO No.1\n",
        "\n",
        "Realice los siguientes ejercicios, presente un informe de forma ordenada y completa, incluya los códigos ejecutados y cuadros de texto en\n",
        "caso de necesitar conclusiones o enunciados.\n",
        "\n",
        "\n",
        "\n",
        "\n"
      ],
      "metadata": {
        "id": "hFA4LIZxtBbp"
      }
    },
    {
      "cell_type": "markdown",
      "source": [
        "1. Un mensaje anónimo les dice lo siguiente:\n",
        "010000100110100101100101011011100111011001100101011011100110100101100100011011110\n",
        "111001100100000011000010110110000100000011011010111010101101110011001000110111100\n",
        "10000001100100011010010110011101101001011101000110000101101100\n",
        "Traduzca el código binario de 8-bits a español y responda con un “Hola mundo” en binario y reporte\n",
        "el peso de este mensaje en bytes."
      ],
      "metadata": {
        "id": "hL08Jlz0vC_z"
      }
    },
    {
      "cell_type": "code",
      "source": [
        "mensaje = \"01000010011010010110010101101110011101100110010101101110011010010110010001101111011100110010000001100001011011000010000001101101011101010110111001100100011011110010000001100100011010010110011101101001011101000110000101101100\""
      ],
      "metadata": {
        "id": "NkJXb81evJSp"
      },
      "execution_count": null,
      "outputs": []
    },
    {
      "cell_type": "code",
      "source": [
        "import re\n",
        "re.findall(\"........\", mensaje)"
      ],
      "metadata": {
        "colab": {
          "base_uri": "https://localhost:8080/"
        },
        "id": "eHne3GgbwVMk",
        "outputId": "f750abef-ed40-450d-c728-d6b092b60df9"
      },
      "execution_count": null,
      "outputs": [
        {
          "output_type": "execute_result",
          "data": {
            "text/plain": [
              "['01000010',\n",
              " '01101001',\n",
              " '01100101',\n",
              " '01101110',\n",
              " '01110110',\n",
              " '01100101',\n",
              " '01101110',\n",
              " '01101001',\n",
              " '01100100',\n",
              " '01101111',\n",
              " '01110011',\n",
              " '00100000',\n",
              " '01100001',\n",
              " '01101100',\n",
              " '00100000',\n",
              " '01101101',\n",
              " '01110101',\n",
              " '01101110',\n",
              " '01100100',\n",
              " '01101111',\n",
              " '00100000',\n",
              " '01100100',\n",
              " '01101001',\n",
              " '01100111',\n",
              " '01101001',\n",
              " '01110100',\n",
              " '01100001',\n",
              " '01101100']"
            ]
          },
          "metadata": {},
          "execution_count": 8
        }
      ]
    },
    {
      "cell_type": "code",
      "source": [
        "lista_datos = ['01000010', '01101001', '01100101', '01101110', '01110110', '01100101', '01101110', '01101001', '01100100', '01101111', '01110011', '00100000',\n",
        " '01100001', '01101100', '00100000', '01101101', '01110101', '01101110', '01100100', '01101111', '00100000', '01100100', '01101001', '01100111', '01101001',\n",
        " '01110100', '01100001', '01101100']"
      ],
      "metadata": {
        "id": "1H3kNoRBwreJ"
      },
      "execution_count": null,
      "outputs": []
    },
    {
      "cell_type": "code",
      "source": [
        "# Función para convertir un número binario de 8 bits a su equivalente en español\n",
        "def binario_a_espanol(binario):\n",
        "    decimal = int(binario, 2)\n",
        "    caracter = chr(decimal)\n",
        "    return caracter\n",
        "\n",
        "# Función para convertir un carácter a su representación binaria de 8 bits\n",
        "def caracter_a_binario(caracter):\n",
        "    binario = bin(ord(caracter))[2:].zfill(8)\n",
        "    return binario\n",
        "\n",
        "# Mensaje en binario\n",
        "codigo_binario = ['01000010', '01101001', '01100101', '01101110', '01110110', '01100101', '01101110', '01101001', '01100100', '01101111', '01110011', '00100000',\n",
        " '01100001', '01101100', '00100000', '01101101', '01110101', '01101110', '01100100', '01101111', '00100000', '01100100', '01101001', '01100111', '01101001',\n",
        " '01110100', '01100001', '01101100']\n",
        "\n",
        "# Inicializar variable para almacenar el mensaje en español\n",
        "mensaje_espanol = \"\"\n",
        "\n",
        "# Convertir cada byte binario a su equivalente en español y agregarlo al mensaje\n",
        "for byte in codigo_binario:\n",
        "    caracter = binario_a_espanol(byte)\n",
        "    mensaje_espanol += caracter\n",
        "\n",
        "# Imprimir el mensaje en español\n",
        "print(\"Mensaje completo en español:\")\n",
        "print(mensaje_espanol)\n",
        "\n",
        "# Calcular el peso del mensaje en bytes\n",
        "peso_bytes = len(codigo_binario)\n",
        "print(\"Peso del mensaje en bytes:\", peso_bytes)\n",
        "\n",
        "# Convertir el mensaje \"Hola mundo\" a binario\n",
        "mensaje_hola_mundo = \"Hola mundo\"\n",
        "mensaje_binario = ''.join(caracter_a_binario(caracter) for caracter in mensaje_hola_mundo)\n",
        "\n",
        "# Imprimir el mensaje en binario\n",
        "print(\"Mensaje 'Hola mundo' en binario:\")\n",
        "print(mensaje_binario)\n",
        "\n",
        "# Imprimir mensaje de finalización\n",
        "print(\"Proceso completado exitosamente.\")\n"
      ],
      "metadata": {
        "colab": {
          "base_uri": "https://localhost:8080/"
        },
        "id": "irXFzWqfeWzq",
        "outputId": "331f96e6-5e1c-49de-91bd-3a0e4c7633c1"
      },
      "execution_count": 6,
      "outputs": [
        {
          "output_type": "stream",
          "name": "stdout",
          "text": [
            "Mensaje completo en español:\n",
            "Bienvenidos al mundo digital\n",
            "Peso del mensaje en bytes: 28\n",
            "Mensaje 'Hola mundo' en binario:\n",
            "01001000011011110110110001100001001000000110110101110101011011100110010001101111\n",
            "Proceso completado exitosamente.\n"
          ]
        }
      ]
    },
    {
      "cell_type": "markdown",
      "source": [
        "2. Paralelice el vector [3, 5, 1, 6, 9, 12, 15, 21, 5, 3, 6, 9, 8, 7, 7, 1, 13] y usando una RDD calcule la media\n",
        "del vector. Sugerencia: Use las funciones map() y reduce() para calcular la suma de los valores del\n",
        "vector y la cantidad de datos que esta suma contiene."
      ],
      "metadata": {
        "id": "-1hnD-7efGei"
      }
    },
    {
      "cell_type": "code",
      "source": [
        "\n",
        "!pip install pyspark"
      ],
      "metadata": {
        "colab": {
          "base_uri": "https://localhost:8080/"
        },
        "id": "uOXBGdLLgaeq",
        "outputId": "a253cbb1-76c0-41b8-82e7-b9336dfe4f34"
      },
      "execution_count": 9,
      "outputs": [
        {
          "output_type": "stream",
          "name": "stdout",
          "text": [
            "Collecting pyspark\n",
            "  Downloading pyspark-3.5.1.tar.gz (317.0 MB)\n",
            "\u001b[2K     \u001b[90m━━━━━━━━━━━━━━━━━━━━━━━━━━━━━━━━━━━━━━━━\u001b[0m \u001b[32m317.0/317.0 MB\u001b[0m \u001b[31m2.4 MB/s\u001b[0m eta \u001b[36m0:00:00\u001b[0m\n",
            "\u001b[?25h  Preparing metadata (setup.py) ... \u001b[?25l\u001b[?25hdone\n",
            "Requirement already satisfied: py4j==0.10.9.7 in /usr/local/lib/python3.10/dist-packages (from pyspark) (0.10.9.7)\n",
            "Building wheels for collected packages: pyspark\n",
            "  Building wheel for pyspark (setup.py) ... \u001b[?25l\u001b[?25hdone\n",
            "  Created wheel for pyspark: filename=pyspark-3.5.1-py2.py3-none-any.whl size=317488491 sha256=09ee9c564b1899595e82956086cfbe246b3418606f6f48819532eb39111009ab\n",
            "  Stored in directory: /root/.cache/pip/wheels/80/1d/60/2c256ed38dddce2fdd93be545214a63e02fbd8d74fb0b7f3a6\n",
            "Successfully built pyspark\n",
            "Installing collected packages: pyspark\n",
            "Successfully installed pyspark-3.5.1\n"
          ]
        }
      ]
    },
    {
      "cell_type": "code",
      "source": [
        "from pyspark import SparkContext\n",
        "\n",
        "# Detener el SparkContext existente si está en ejecución\n",
        "if 'sc' in locals():\n",
        "    sc.stop()\n",
        "\n",
        "# Crear un nuevo SparkContext\n",
        "sc = SparkContext(\"local\", \"CalculoMediaVector\")\n",
        "\n",
        "# Definir el vector\n",
        "vector = [3, 5, 1, 6, 9, 12, 15, 21, 5, 3, 6, 9, 8, 7, 7, 1, 13]\n",
        "\n",
        "# Paralelizar el vector\n",
        "rdd = sc.parallelize(vector)\n",
        "\n",
        "# Calcular la suma de los valores del vector y la cantidad de datos\n",
        "suma_y_cantidad = rdd.map(lambda x: (x, 1)).reduce(lambda x, y: (x[0] + y[0], x[1] + y[1]))\n",
        "\n",
        "# Calcular la media\n",
        "media = suma_y_cantidad[0] / suma_y_cantidad[1]\n",
        "\n",
        "# Imprimir la media del vector\n",
        "print(\"La media del vector es:\", media)\n",
        "\n",
        "# Detener el SparkContext\n",
        "sc.stop()\n"
      ],
      "metadata": {
        "colab": {
          "base_uri": "https://localhost:8080/"
        },
        "id": "eochxMgPg1RO",
        "outputId": "d91dc5cf-c826-4f5d-984d-51d4461f510c"
      },
      "execution_count": 10,
      "outputs": [
        {
          "output_type": "stream",
          "name": "stdout",
          "text": [
            "La media del vector es: 7.705882352941177\n"
          ]
        }
      ]
    },
    {
      "cell_type": "markdown",
      "source": [
        "3. Descargue el archivo iris.txt del siguiente link y calcule el promedio de “sepal length” para cada tipo de\n",
        "planta Iris (Setosa, Versicolar, Virginica); Haga el mismo calculo usando las variables “sepal width”,\n",
        "“petal length”, and “petal width”"
      ],
      "metadata": {
        "id": "NOdMyJrmhLIY"
      }
    },
    {
      "cell_type": "code",
      "source": [
        "!pip install pyspark\n"
      ],
      "metadata": {
        "colab": {
          "base_uri": "https://localhost:8080/"
        },
        "id": "3E-51w3Wk1KB",
        "outputId": "e3260d8e-0baa-4eb2-957a-b8fc35b70c38"
      },
      "execution_count": 4,
      "outputs": [
        {
          "output_type": "stream",
          "name": "stdout",
          "text": [
            "Collecting pyspark\n",
            "  Downloading pyspark-3.5.1.tar.gz (317.0 MB)\n",
            "\u001b[2K     \u001b[90m━━━━━━━━━━━━━━━━━━━━━━━━━━━━━━━━━━━━━━━━\u001b[0m \u001b[32m317.0/317.0 MB\u001b[0m \u001b[31m4.0 MB/s\u001b[0m eta \u001b[36m0:00:00\u001b[0m\n",
            "\u001b[?25h  Preparing metadata (setup.py) ... \u001b[?25l\u001b[?25hdone\n",
            "Requirement already satisfied: py4j==0.10.9.7 in /usr/local/lib/python3.10/dist-packages (from pyspark) (0.10.9.7)\n",
            "Building wheels for collected packages: pyspark\n",
            "  Building wheel for pyspark (setup.py) ... \u001b[?25l\u001b[?25hdone\n",
            "  Created wheel for pyspark: filename=pyspark-3.5.1-py2.py3-none-any.whl size=317488491 sha256=82fb0708743e3d415e1d269afccb34a2a9d6884622d2daf2c71dd9461d936e14\n",
            "  Stored in directory: /root/.cache/pip/wheels/80/1d/60/2c256ed38dddce2fdd93be545214a63e02fbd8d74fb0b7f3a6\n",
            "Successfully built pyspark\n",
            "Installing collected packages: pyspark\n",
            "Successfully installed pyspark-3.5.1\n"
          ]
        }
      ]
    },
    {
      "cell_type": "code",
      "source": [
        "from pyspark import SparkContext\n",
        "\n",
        "# Crear el SparkContext\n",
        "sc = SparkContext.getOrCreate()\n",
        "\n",
        "# Leer el archivo iris.txt y cargarlo en un RDD\n",
        "rdd = sc.textFile(\"/content/iris.txt\")\n",
        "\n",
        "# Función para extraer las columnas relevantes y convertirlas en una tupla\n",
        "def parse_line(line):\n",
        "    parts = line.split(',')\n",
        "    species = parts[4]\n",
        "    sepal_length = float(parts[0])\n",
        "    sepal_width = float(parts[1])\n",
        "    petal_length = float(parts[2])\n",
        "    petal_width = float(parts[3])\n",
        "    return (species, (sepal_length, sepal_width, petal_length, petal_width))\n",
        "\n",
        "# Aplicar la función de análisis de línea al RDD y eliminar el encabezado\n",
        "header = rdd.first()\n",
        "rdd = rdd.filter(lambda x: x != header).map(parse_line)\n",
        "\n",
        "# Calcular el promedio de sepal length, sepal width, petal length y petal width para cada tipo de planta\n",
        "averages = rdd.aggregateByKey((0, 0, 0, 0),\n",
        "                               lambda x, y: (x[0] + y[0], x[1] + y[1], x[2] + y[2], x[3] + y[3]),\n",
        "                               lambda x, y: (x[0] + y[0], x[1] + y[1], x[2] + y[2], x[3] + y[3]))\n",
        "\n",
        "# Calcular el promedio dividiendo la suma de cada columna por el total de registros para cada tipo de planta\n",
        "averages = averages.mapValues(lambda x: (x[0] / x[1], x[1] / x[1], x[2] / x[1], x[3] / x[1]))\n",
        "\n",
        "# Mostrar los resultados\n",
        "for species, avg_values in averages.collect():\n",
        "    print(\"Species: {}\".format(species))\n",
        "    print(\"Average Sepal Length: {:.2f}\".format(avg_values[0]))\n",
        "    print(\"Average Sepal Width: {:.2f}\".format(avg_values[1]))\n",
        "    print(\"Average Petal Length: {:.2f}\".format(avg_values[2]))\n",
        "    print(\"Average Petal Width: {:.2f}\".format(avg_values[3]))\n",
        "    print()\n"
      ],
      "metadata": {
        "colab": {
          "base_uri": "https://localhost:8080/"
        },
        "id": "iNz5hM8uo9dE",
        "outputId": "e5c23720-77d3-4bf4-8c15-f2ed32f724fe"
      },
      "execution_count": 18,
      "outputs": [
        {
          "output_type": "stream",
          "name": "stdout",
          "text": [
            "Species: Iris-setosa\n",
            "Average Sepal Length: 1.46\n",
            "Average Sepal Width: 1.00\n",
            "Average Petal Length: 0.43\n",
            "Average Petal Width: 0.07\n",
            "\n",
            "Species: Iris-versicolor\n",
            "Average Sepal Length: 2.14\n",
            "Average Sepal Width: 1.00\n",
            "Average Petal Length: 1.54\n",
            "Average Petal Width: 0.48\n",
            "\n",
            "Species: Iris-virginica\n",
            "Average Sepal Length: 2.22\n",
            "Average Sepal Width: 1.00\n",
            "Average Petal Length: 1.87\n",
            "Average Petal Width: 0.68\n",
            "\n"
          ]
        }
      ]
    },
    {
      "cell_type": "markdown",
      "source": [
        "4. Descargue desde el siguiente link la Patente asociada, para ello en la pestaña de documentos\n",
        "descargue el archivo .zip:\n",
        "https://patentscope.wipo.int/search/es/detail.jsf?docId=US410558309&_cid=P11-LNP5X5-65408-1\n",
        "Cargue en un RDD el documento ocr-description.txt, use las funciones map(), flatMap(), y filter() para\n",
        "transformar línea a línea todo el documento a minúsculas, elimine caracteres especiales como comas,\n",
        "puntos, puntos y comas, comillas y cualquier signo de puntuación. Adicionalmente separe las oraciones\n",
        "en palabras individuales y filtre las palabras para que solo obtengas las que tengan más de 3 letras.\n",
        "Una vez hecha esta limpieza, cuente las palabras, ordénelas y reporte las 5 que más se repitan."
      ],
      "metadata": {
        "id": "nhjGiQzLs5pm"
      }
    },
    {
      "cell_type": "code",
      "source": [
        "from pyspark import SparkContext\n",
        "\n",
        "# Crear el SparkContext\n",
        "sc = SparkContext.getOrCreate()\n",
        "\n",
        "# Cargar el archivo ocr-description.txt en un RDD\n",
        "rdd = sc.textFile(\"/content/ocr-description.txt\")\n",
        "\n",
        "# Función para limpiar y dividir las líneas en palabras\n",
        "def clean_and_split(line):\n",
        "    # Convertir a minúsculas y eliminar caracteres especiales\n",
        "    clean_line = ''.join(c for c in line.lower() if c.isalnum() or c.isspace())\n",
        "    # Dividir la línea en palabras\n",
        "    return clean_line.split()\n",
        "\n",
        "# Aplicar la limpieza y división de palabras a cada línea\n",
        "words_rdd = rdd.flatMap(clean_and_split)\n",
        "\n",
        "# Filtrar las palabras con más de 3 letras\n",
        "filtered_words_rdd = words_rdd.filter(lambda word: len(word) > 3)\n",
        "\n",
        "# Contar las palabras\n",
        "word_counts_rdd = filtered_words_rdd.map(lambda word: (word, 1)).reduceByKey(lambda x, y: x + y)\n",
        "\n",
        "# Ordenar las palabras por su conteo en orden descendente y tomar las 5 más comunes\n",
        "top_5_words = word_counts_rdd.map(lambda x: (x[1], x[0])).sortByKey(False).take(5)\n",
        "\n",
        "# Imprimir las palabras más comunes\n",
        "for count, word in top_5_words:\n",
        "    print(f\"{word}: {count}\")\n"
      ],
      "metadata": {
        "colab": {
          "base_uri": "https://localhost:8080/"
        },
        "id": "hlqbLQ_Fs8Ez",
        "outputId": "d9904ca7-621a-432d-b306-9c06b1dfed6b"
      },
      "execution_count": 19,
      "outputs": [
        {
          "output_type": "stream",
          "name": "stdout",
          "text": [
            "vaporization: 116\n",
            "airflow: 82\n",
            "guide: 58\n",
            "cavity: 55\n",
            "embodiments: 45\n"
          ]
        }
      ]
    },
    {
      "cell_type": "markdown",
      "source": [
        "Con la librería Faker simule 500000 registros de 4 variables de una red social que corresponden a id,\n",
        "nombre usuario, edad, Numero de amigos. Simule la edad como una variable normal discretizada,\n",
        "centrada en 33 años con una desviación estándar de 15 y la variable Numero de amigos como una\n",
        "variable normal discretizada centradas en 255 con una desviación estándar de 50, para garantizar\n",
        "que siempre sean positivos saque valor absoluto\n",
        "a. Simule el conjunto de datos y guárdelos en un archivo llamado num_amigos.txt\n",
        "b. Cargue los datos a una RDD para procesarlos.\n",
        "c. Calcule el número de amigos promedio por edad.\n"
      ],
      "metadata": {
        "id": "fpPEUWbit-k0"
      }
    },
    {
      "cell_type": "code",
      "source": [
        "!pip install Faker"
      ],
      "metadata": {
        "colab": {
          "base_uri": "https://localhost:8080/"
        },
        "id": "1Z8YsRK6uVGz",
        "outputId": "f1a7d707-0025-4db6-a832-de70a1c63327"
      },
      "execution_count": 21,
      "outputs": [
        {
          "output_type": "stream",
          "name": "stdout",
          "text": [
            "Collecting Faker\n",
            "  Downloading Faker-24.3.0-py3-none-any.whl (1.8 MB)\n",
            "\u001b[2K     \u001b[90m━━━━━━━━━━━━━━━━━━━━━━━━━━━━━━━━━━━━━━━━\u001b[0m \u001b[32m1.8/1.8 MB\u001b[0m \u001b[31m7.3 MB/s\u001b[0m eta \u001b[36m0:00:00\u001b[0m\n",
            "\u001b[?25hRequirement already satisfied: python-dateutil>=2.4 in /usr/local/lib/python3.10/dist-packages (from Faker) (2.8.2)\n",
            "Requirement already satisfied: six>=1.5 in /usr/local/lib/python3.10/dist-packages (from python-dateutil>=2.4->Faker) (1.16.0)\n",
            "Installing collected packages: Faker\n",
            "Successfully installed Faker-24.3.0\n"
          ]
        }
      ]
    },
    {
      "cell_type": "code",
      "source": [
        "from pyspark import SparkContext\n",
        "from faker import Faker\n",
        "import numpy as np\n",
        "\n",
        "# Verificar si ya existe un SparkContext, si no, crear uno nuevo\n",
        "try:\n",
        "    sc = SparkContext(\"local\", \"Red Social\")\n",
        "except ValueError:\n",
        "    # Si ya existe un SparkContext, obtener una referencia a él\n",
        "    sc = SparkContext.getOrCreate()\n",
        "\n",
        "faker = Faker()\n",
        "np.random.seed(0)\n",
        "\n",
        "with open(\"num_amigos.txt\", \"w\") as file:\n",
        "    for _ in range(500000):\n",
        "        id_usuario = faker.uuid4()\n",
        "        nombre_usuario = faker.name()\n",
        "        edad = int(abs(np.random.normal(33, 15)))\n",
        "        num_amigos = int(abs(np.random.normal(255, 50)))\n",
        "        file.write(f\"{id_usuario},{nombre_usuario},{edad},{num_amigos}\\n\")\n",
        "\n",
        "# Paso 3: Cargar los datos a una RDD para procesarlos\n",
        "rdd = sc.textFile(\"num_amigos.txt\").map(lambda line: line.split(\",\"))\n",
        "\n",
        "# Paso 4: Calcular el número de amigos promedio por edad\n",
        "# Convertir cada registro en una tupla (edad, número de amigos)\n",
        "edad_num_amigos = rdd.map(lambda x: (int(x[2]), int(x[3])))\n",
        "\n",
        "# Calcular el número total de amigos por cada edad\n",
        "suma_amigos_por_edad = edad_num_amigos.reduceByKey(lambda x, y: x + y)\n",
        "conteo_por_edad = edad_num_amigos.countByKey()\n",
        "\n",
        "def calcular_promedio(num_amigos_sum, num_registros):\n",
        "    return num_amigos_sum / num_registros if num_registros != 0 else 0\n",
        "\n",
        "# Calcular el número promedio de amigos por edad\n",
        "num_amigos_promedio_por_edad = suma_amigos_por_edad.mapValues(lambda x: calcular_promedio(x, conteo_por_edad[x]))\n",
        "\n",
        "# Paso 5: Imprimir el resultado\n",
        "print(\"Número de amigos promedio por edad:\")\n",
        "for edad, num_amigos_promedio in sorted(num_amigos_promedio_por_edad.collect()):\n",
        "    print(f\"Edad: {edad}, Número de amigos promedio: {num_amigos_promedio}\")\n",
        "\n",
        "# Paso 6: Detener el SparkContext\n",
        "sc.stop()\n"
      ],
      "metadata": {
        "colab": {
          "base_uri": "https://localhost:8080/"
        },
        "id": "KIqWr4bauq7T",
        "outputId": "2384bd3c-b7ab-42e7-d17f-c364d41ecb52"
      },
      "execution_count": 22,
      "outputs": [
        {
          "output_type": "stream",
          "name": "stdout",
          "text": [
            "Número de amigos promedio por edad:\n",
            "Edad: 0, Número de amigos promedio: 0\n",
            "Edad: 1, Número de amigos promedio: 0\n",
            "Edad: 2, Número de amigos promedio: 0\n",
            "Edad: 3, Número de amigos promedio: 0\n",
            "Edad: 4, Número de amigos promedio: 0\n",
            "Edad: 5, Número de amigos promedio: 0\n",
            "Edad: 6, Número de amigos promedio: 0\n",
            "Edad: 7, Número de amigos promedio: 0\n",
            "Edad: 8, Número de amigos promedio: 0\n",
            "Edad: 9, Número de amigos promedio: 0\n",
            "Edad: 10, Número de amigos promedio: 0\n",
            "Edad: 11, Número de amigos promedio: 0\n",
            "Edad: 12, Número de amigos promedio: 0\n",
            "Edad: 13, Número de amigos promedio: 0\n",
            "Edad: 14, Número de amigos promedio: 0\n",
            "Edad: 15, Número de amigos promedio: 0\n",
            "Edad: 16, Número de amigos promedio: 0\n",
            "Edad: 17, Número de amigos promedio: 0\n",
            "Edad: 18, Número de amigos promedio: 0\n",
            "Edad: 19, Número de amigos promedio: 0\n",
            "Edad: 20, Número de amigos promedio: 0\n",
            "Edad: 21, Número de amigos promedio: 0\n",
            "Edad: 22, Número de amigos promedio: 0\n",
            "Edad: 23, Número de amigos promedio: 0\n",
            "Edad: 24, Número de amigos promedio: 0\n",
            "Edad: 25, Número de amigos promedio: 0\n",
            "Edad: 26, Número de amigos promedio: 0\n",
            "Edad: 27, Número de amigos promedio: 0\n",
            "Edad: 28, Número de amigos promedio: 0\n",
            "Edad: 29, Número de amigos promedio: 0\n",
            "Edad: 30, Número de amigos promedio: 0\n",
            "Edad: 31, Número de amigos promedio: 0\n",
            "Edad: 32, Número de amigos promedio: 0\n",
            "Edad: 33, Número de amigos promedio: 0\n",
            "Edad: 34, Número de amigos promedio: 0\n",
            "Edad: 35, Número de amigos promedio: 0\n",
            "Edad: 36, Número de amigos promedio: 0\n",
            "Edad: 37, Número de amigos promedio: 0\n",
            "Edad: 38, Número de amigos promedio: 0\n",
            "Edad: 39, Número de amigos promedio: 0\n",
            "Edad: 40, Número de amigos promedio: 0\n",
            "Edad: 41, Número de amigos promedio: 0\n",
            "Edad: 42, Número de amigos promedio: 0\n",
            "Edad: 43, Número de amigos promedio: 0\n",
            "Edad: 44, Número de amigos promedio: 0\n",
            "Edad: 45, Número de amigos promedio: 0\n",
            "Edad: 46, Número de amigos promedio: 0\n",
            "Edad: 47, Número de amigos promedio: 0\n",
            "Edad: 48, Número de amigos promedio: 0\n",
            "Edad: 49, Número de amigos promedio: 0\n",
            "Edad: 50, Número de amigos promedio: 0\n",
            "Edad: 51, Número de amigos promedio: 0\n",
            "Edad: 52, Número de amigos promedio: 0\n",
            "Edad: 53, Número de amigos promedio: 0\n",
            "Edad: 54, Número de amigos promedio: 0\n",
            "Edad: 55, Número de amigos promedio: 0\n",
            "Edad: 56, Número de amigos promedio: 0\n",
            "Edad: 57, Número de amigos promedio: 0\n",
            "Edad: 58, Número de amigos promedio: 0\n",
            "Edad: 59, Número de amigos promedio: 0\n",
            "Edad: 60, Número de amigos promedio: 0\n",
            "Edad: 61, Número de amigos promedio: 0\n",
            "Edad: 62, Número de amigos promedio: 0\n",
            "Edad: 63, Número de amigos promedio: 0\n",
            "Edad: 64, Número de amigos promedio: 0\n",
            "Edad: 65, Número de amigos promedio: 0\n",
            "Edad: 66, Número de amigos promedio: 0\n",
            "Edad: 67, Número de amigos promedio: 0\n",
            "Edad: 68, Número de amigos promedio: 0\n",
            "Edad: 69, Número de amigos promedio: 0\n",
            "Edad: 70, Número de amigos promedio: 0\n",
            "Edad: 71, Número de amigos promedio: 0\n",
            "Edad: 72, Número de amigos promedio: 0\n",
            "Edad: 73, Número de amigos promedio: 0\n",
            "Edad: 74, Número de amigos promedio: 0\n",
            "Edad: 75, Número de amigos promedio: 0\n",
            "Edad: 76, Número de amigos promedio: 0\n",
            "Edad: 77, Número de amigos promedio: 0\n",
            "Edad: 78, Número de amigos promedio: 0\n",
            "Edad: 79, Número de amigos promedio: 0\n",
            "Edad: 80, Número de amigos promedio: 0\n",
            "Edad: 81, Número de amigos promedio: 0\n",
            "Edad: 82, Número de amigos promedio: 0\n",
            "Edad: 83, Número de amigos promedio: 0\n",
            "Edad: 84, Número de amigos promedio: 0\n",
            "Edad: 85, Número de amigos promedio: 0\n",
            "Edad: 86, Número de amigos promedio: 0\n",
            "Edad: 87, Número de amigos promedio: 0\n",
            "Edad: 88, Número de amigos promedio: 0\n",
            "Edad: 89, Número de amigos promedio: 0\n",
            "Edad: 90, Número de amigos promedio: 0\n",
            "Edad: 91, Número de amigos promedio: 0\n",
            "Edad: 93, Número de amigos promedio: 0\n",
            "Edad: 94, Número de amigos promedio: 0\n",
            "Edad: 95, Número de amigos promedio: 0\n",
            "Edad: 97, Número de amigos promedio: 0\n",
            "Edad: 98, Número de amigos promedio: 0\n",
            "Edad: 99, Número de amigos promedio: 0\n",
            "Edad: 101, Número de amigos promedio: 0\n",
            "Edad: 103, Número de amigos promedio: 0\n"
          ]
        }
      ]
    }
  ]
}