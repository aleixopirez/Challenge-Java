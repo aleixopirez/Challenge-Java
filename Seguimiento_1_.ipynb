{
  "nbformat": 4,
  "nbformat_minor": 0,
  "metadata": {
    "colab": {
      "provenance": [],
      "authorship_tag": "ABX9TyOufvrXnKdPemAwcdYLaiwX",
      "include_colab_link": true
    },
    "kernelspec": {
      "name": "python3",
      "display_name": "Python 3"
    },
    "language_info": {
      "name": "python"
    }
  },
  "cells": [
    {
      "cell_type": "markdown",
      "metadata": {
        "id": "view-in-github",
        "colab_type": "text"
      },
      "source": [
        "<a href=\"https://colab.research.google.com/github/aleixopirez/Challenge-Java/blob/main/Seguimiento_1_.ipynb\" target=\"_parent\"><img src=\"https://colab.research.google.com/assets/colab-badge.svg\" alt=\"Open In Colab\"/></a>"
      ]
    },
    {
      "cell_type": "markdown",
      "source": [
        "ARQUITECTURA EN BIG DATA\n",
        "SEGUIMIENTO No.1\n",
        "Aleixo Eder Pineda Ramirez\n",
        "1. Un mensaje anónimo les dice lo siguiente:\n",
        "010000100110100101100101011011100111011001100101011011100110100101100100011011110\n",
        "111001100100000011000010110110000100000011011010111010101101110011001000110111100\n",
        "10000001100100011010010110011101101001011101000110000101101100\n",
        "Traduzca el código binario de 8-bits a español y responda con un “Hola mundo” en binario y reporte\n",
        "el peso de este mensaje en bytes."
      ],
      "metadata": {
        "id": "BFX-Qih4wqOU"
      }
    },
    {
      "cell_type": "code",
      "source": [
        "Mensaje_binary = '''010000100110100101100101011011100111011001100101011011100110100101100100011011110\n",
        "111001100100000011000010110110000100000011011010111010101101110011001000110111100\n",
        "10000001100100011010010110011101101001011101000110000101101100'''\n",
        "\n",
        "# Eliminar cualquier carácter que no sea '0' o '1' del mensaje binario\n",
        "Mensaje_binary = ''.join(bit for bit in Mensaje_binary if bit in ('0', '1'))\n",
        "\n",
        "# Dividir el mensaje binario en grupos de 8 bits (bytes)\n",
        "bytes_list = [Mensaje_binary[i:i+8] for i in range(0, len(Mensaje_binary), 8)]\n",
        "\n",
        "# Convertir cada byte binario en su equivalente carácter ASCII y unirlos en una sola cadena\n",
        "ascii_string = ''.join(chr(int(byte, 2)) for byte in bytes_list)\n",
        "\n",
        "# Si quieres ver la cadena de caracteres ASCII sin separadores\n",
        "print(\"Cadena de caracteres ASCII:\", ascii_string)\n",
        "string = \"Hola mundo\"\n",
        "\n",
        "for letra in string:\n",
        "    peso_bytes= len(ascii_string)\n",
        "    print(format(ord(letra), \"08b\"), end='')\n",
        "    print(\"Peso del mensaje en bytes:\", peso_bytes)\n",
        ""
      ],
      "metadata": {
        "colab": {
          "base_uri": "https://localhost:8080/"
        },
        "id": "FXZZXMcq9QrW",
        "outputId": "a0565fef-8594-406c-a1c0-4e9098573fc9"
      },
      "execution_count": 2,
      "outputs": [
        {
          "output_type": "stream",
          "name": "stdout",
          "text": [
            "Cadena de caracteres ASCII: Bienvenidos al mundo digital\n",
            "01001000Peso del mensaje en bytes: 28\n",
            "01101111Peso del mensaje en bytes: 28\n",
            "01101100Peso del mensaje en bytes: 28\n",
            "01100001Peso del mensaje en bytes: 28\n",
            "00100000Peso del mensaje en bytes: 28\n",
            "01101101Peso del mensaje en bytes: 28\n",
            "01110101Peso del mensaje en bytes: 28\n",
            "01101110Peso del mensaje en bytes: 28\n",
            "01100100Peso del mensaje en bytes: 28\n",
            "01101111Peso del mensaje en bytes: 28\n"
          ]
        }
      ]
    },
    {
      "cell_type": "code",
      "source": [
        "Mensaje_binario = '''010000100110100101100101011011100111011001100101011011100110100101100100011011110\n",
        "111001100100000011000010110110000100000011011010111010101101110011001000110111100\n",
        "10000001100100011010010110011101101001011101000110000101101100'''\n",
        "\n",
        "# Eliminar cualquier carácter que no sea '0' o '1' del mensaje binario\n",
        "Mensaje_binario = ''.join(bit for bit in Mensaje_binario if bit in ('0', '1'))\n",
        "\n",
        "# Dividir el mensaje binario en grupos de 8 bits (bytes)\n",
        "bytes_list = [Mensaje_binario[i:i+8] for i in range(0, len(Mensaje_binario), 8)]\n",
        "\n",
        "# Convertir cada byte binario a ASCII\n",
        "Mensaje_string = ''.join(chr(int(byte, 2)) for byte in bytes_list)\n",
        "print(\"Mensaje Anónimo :\", Mensaje_string)\n",
        "print(\"Respuesta Hola mundo en binario :\")\n",
        "\n",
        "# Calcular el peso del mensaje\n",
        "peso_bytes = len(Mensaje_string)\n",
        "\n",
        "Respoder = \"Hola mundo\"\n",
        "\n",
        "for letra in string:\n",
        "    print(format(ord(letra), \"08b\"), end='')\n",
        "\n",
        "# Imprimir el peso del mensaje\n",
        "print(\" Peso del mensaje en bytes:\", peso_bytes)\n",
        "print(\"Mensaje enviado exitosamente\")\n"
      ],
      "metadata": {
        "colab": {
          "base_uri": "https://localhost:8080/"
        },
        "id": "iKiXO8eXC26d",
        "outputId": "002aff61-dbde-40da-8377-ae9bce3e5c61"
      },
      "execution_count": 17,
      "outputs": [
        {
          "output_type": "stream",
          "name": "stdout",
          "text": [
            "Mensaje Anónimo : Bienvenidos al mundo digital\n",
            "Respuesta Hola mundo en binario :\n",
            "01001000011011110110110001100001001000000110110101110101011011100110010001101111 Peso del mensaje en bytes: 28\n",
            "Mensaje enviado exitosamente\n"
          ]
        }
      ]
    },
    {
      "cell_type": "markdown",
      "source": [
        "2. Paralelice el vector [3, 5, 1, 6, 9, 12, 15, 21, 5, 3, 6, 9, 8, 7, 7, 1, 13] y usando una RDD calcule la media del vector.\n",
        "zSugerencia: Use las funciones map() y reduce() para calcular la suma de los valores del vector y la cantidad de datos que esta suma contiene."
      ],
      "metadata": {
        "id": "E__F3hQY-IPc"
      }
    },
    {
      "cell_type": "code",
      "source": [
        "!pip install pyspark\n",
        "from pyspark import SparkContext\n",
        "\n",
        "# Detener el SparkContext existente si está en ejecución\n",
        "#if 'sc' in locals():\n",
        " #   sc.stop()\n",
        "\n",
        "# Crear un nuevo SparkContext\n",
        "sc = SparkContext(\"local\", \"CalculoMediaVector\")\n",
        "\n",
        "# Definir el vector\n",
        "vector = [3, 5, 1, 6, 9, 12, 15, 21, 5, 3, 6, 9, 8, 7, 7, 1, 13]\n",
        "\n",
        "# Paralelizar el vector\n",
        "rdd = sc.parallelize(vector)\n",
        "\n",
        "# Calcular la suma de los valores del vector y la cantidad de datos\n",
        "suma_y_cantidad = rdd.map(lambda x: (x, 1)).reduce(lambda x, y: (x[0] + y[0], x[1] + y[1]))\n",
        "\n",
        "# Calcular la media\n",
        "media = suma_y_cantidad[0] / suma_y_cantidad[1]\n",
        "\n",
        "# Imprimir la media del vector\n",
        "print(\"La media del vector es:\", media)\n",
        "\n",
        "# Detener el SparkContext\n",
        "#sc.stop()\n"
      ],
      "metadata": {
        "colab": {
          "base_uri": "https://localhost:8080/"
        },
        "id": "zzEx0Pd3H49z",
        "outputId": "8eaec867-c7df-44e1-eaa1-8c2a425645fb"
      },
      "execution_count": 23,
      "outputs": [
        {
          "output_type": "stream",
          "name": "stdout",
          "text": [
            "Requirement already satisfied: pyspark in /usr/local/lib/python3.10/dist-packages (3.5.1)\n",
            "Requirement already satisfied: py4j==0.10.9.7 in /usr/local/lib/python3.10/dist-packages (from pyspark) (0.10.9.7)\n",
            "La media del vector es: 7.705882352941177\n"
          ]
        }
      ]
    },
    {
      "cell_type": "markdown",
      "source": [
        "Descargue el archivo iris.txt del siguiente link y calcule el promedio de “sepal length” para cada tipo de\n",
        "planta Iris (Setosa, Versicolar, Virginica); Haga el mismo calculo usando las variables “sepal width”,\n",
        "“petal length”, and “petal width”\n",
        "\n",
        "https://github.com/ClaudiuGeorgiu/Classification/blob/master/iris.txt"
      ],
      "metadata": {
        "id": "OjTwkC4LStaI"
      }
    },
    {
      "cell_type": "code",
      "source": [],
      "metadata": {
        "id": "V88l9T07Sz_U"
      },
      "execution_count": null,
      "outputs": []
    }
  ]
}